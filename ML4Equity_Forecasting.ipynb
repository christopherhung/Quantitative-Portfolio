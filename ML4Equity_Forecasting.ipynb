{
 "cells": [
  {
   "cell_type": "markdown",
   "id": "962b3a49-33dd-43dc-b82c-1579dfeeec63",
   "metadata": {},
   "source": [
    "# Machine Learning for Cross-Sectional Equity Forecasting"
   ]
  },
  {
   "cell_type": "markdown",
   "id": "dadd6fc9-431e-47e8-bac7-2657f872e906",
   "metadata": {},
   "source": [
    "Objective: This project builds a quantitative factor model to predict stock returns, moving beyond traditional linear models (like Fama-French) by using a gradient-boosted tree (LightGBM). The goal is to systematically identify and expliot sources of market-neutral alpha. We will construct classic factors (Momentum, Value, Size), use them to predict forward returns, and evaluate the model's performance by backtesting a long-short portfolio."
   ]
  },
  {
   "cell_type": "markdown",
   "id": "f55a08f9-220e-4554-8df3-4182f2e9dee5",
   "metadata": {},
   "source": [
    "# 1. The Theory of Factor Investing"
   ]
  },
  {
   "cell_type": "markdown",
   "id": "768d0ad3-3b1b-4b46-857f-875c36f8e420",
   "metadata": {},
   "source": [
    "Factor investing is based on the principle that long-term returns of a stock can be explained by its exposure to certain \"factors\". For example:\n",
    "- Size Factor: Historically, smaller companies have tended to outperform larger companies.\n",
    "- Value Factor: Companies that are cheap relative to their fundamentals (e.g., high-book-to-market ratio) have tended to outperform.\n",
    "- Momentum Factor: Stocks that have performed well in the recent past tend to continue performing well.\n",
    "Our hypothesis is that a non-linear machine learning model can learn the complex interaction between these factors to produce a more accurate forecast of future returns than a simple linear combination."
   ]
  },
  {
   "cell_type": "markdown",
   "id": "3c59d5a2-7923-4792-84d6-e784fff152c6",
   "metadata": {},
   "source": [
    "# 2. Data & Factor Construction"
   ]
  },
  {
   "cell_type": "markdown",
   "id": "cb04b4de-ec8b-423f-a56a-dcf073b73c12",
   "metadata": {},
   "source": [
    "We need both price data and fundamental data. For this project, we will use yfinance to source data for the S&P 100 constituents."
   ]
  },
  {
   "cell_type": "code",
   "execution_count": 1,
   "id": "69e68d9b-9b54-42e1-bbd3-64e5e384da91",
   "metadata": {},
   "outputs": [
    {
     "name": "stdout",
     "output_type": "stream",
     "text": [
      "Data preparation complete. Final shape: (9954, 9)\n"
     ]
    }
   ],
   "source": [
    "import yfinance as yf\n",
    "import pandas as pd\n",
    "import numpy as np\n",
    "import lightgbm as lgb\n",
    "from scipy.stats import spearmanr\n",
    "import warnings\n",
    "\n",
    "# Suppress specific warnings\n",
    "warnings.filterwarnings(\"ignore\", category=FutureWarning, message=\".*DataFrameGroupBy.apply operated on the grouping columns.*\")\n",
    "warnings.filterwarnings(\"ignore\", category=FutureWarning, message=\".*The default fill_method='ffill' in SeriesGroupBy.pct_change is deprecated.*\")\n",
    "\n",
    "# --- 1. Fetch Data for S&P 100 Constituents ---\n",
    "sp100_tickers = [\n",
    "    \"AAPL\",\"MSFT\",\"AMZN\",\"GOOGL\",\"GOOG\",\"BRK-B\",\"UNH\",\"JNJ\",\"XOM\",\"JPM\",\"NVDA\",\"PG\",\n",
    "    \"V\",\"HD\",\"MA\",\"CVX\",\"LLY\",\"ABBV\",\"MRK\",\"PEP\",\"KO\",\"BAC\",\"AVGO\",\"TMO\",\"COST\",\"DIS\",\n",
    "    \"PFE\",\"MCD\",\"CSCO\",\"ACN\",\"ABT\",\"DHR\",\"WMT\",\"NFLX\",\"LIN\",\"NKE\",\"NEE\",\"WFC\",\"TXN\",\n",
    "    \"PM\",\"INTC\",\"VZ\",\"ADBE\",\"HON\",\"UNP\",\"AMGN\",\"MS\",\"RTX\",\"GS\",\"MDT\",\"CAT\",\"IBM\",\"BA\",\n",
    "    \"CVS\",\"SCHW\",\"GE\",\"BLK\",\"AXP\",\"QCOM\",\"SPGI\",\"LOW\",\"ORCL\",\"COP\",\"DE\",\"AMT\",\"BMY\",\n",
    "    \"T\",\"BKNG\",\"PLD\",\"NOW\",\"MMM\",\"SBUX\",\"ISRG\",\"MDLZ\",\"GILD\",\"ADI\",\"LMT\",\"MO\",\"C\",\n",
    "    \"CI\",\"ZTS\",\"SO\",\"USB\",\"PNC\",\"EL\",\"REGN\",\"SYK\",\"CB\",\"BDX\",\"MMC\",\"DUK\",\"ADP\",\"ICE\",\n",
    "    \"CSX\",\"FDX\",\"CL\",\"EW\",\"NSC\",\"SHW\",\"GM\",\"VRTX\",\"HUM\"\n",
    "]\n",
    "\n",
    "start_date = \"2015-01-01\"\n",
    "end_date = \"2025-01-01\"\n",
    "\n",
    "# --- 2.2 Download Daily Price Data ---\n",
    "panel = yf.download(sp100_tickers, start=start_date, end=end_date, progress=False, group_by=\"ticker\", auto_adjust=True)\n",
    "\n",
    "# --- 2.3 Reshape into Long Format ---\n",
    "data_list = []\n",
    "for ticker in sp100_tickers:\n",
    "    try:\n",
    "        if ticker not in panel.columns.get_level_values(0):\n",
    "            print(f\"Skipping {ticker}: Not found in downloaded data\")\n",
    "            continue\n",
    "            \n",
    "        df = panel[ticker][[\"Close\"]].copy()\n",
    "        df[\"Ticker\"] = ticker\n",
    "\n",
    "        # Fetch some fundamentals\n",
    "        ticker_info = yf.Ticker(ticker).info\n",
    "        df[\"Market Cap\"] = ticker_info.get(\"marketCap\", np.nan)\n",
    "        df[\"P/E Ratio\"] = ticker_info.get(\"trailingPE\", np.nan)\n",
    "\n",
    "        data_list.append(df)\n",
    "    except Exception as e:\n",
    "        print(f\"Skipping {ticker}: {e}\")\n",
    "\n",
    "all_data = pd.concat(data_list)\n",
    "all_data.reset_index(inplace=True)\n",
    "\n",
    "# --- 2.4 Convert to Monthly Frequency ---\n",
    "all_data['Date'] = pd.to_datetime(all_data['Date'])\n",
    "\n",
    "# Create a complete date range for the entire period\n",
    "date_range = pd.date_range(start=start_date, end=end_date, freq='ME')\n",
    "\n",
    "# Create an empty DataFrame with all combinations of dates and tickers\n",
    "full_index = pd.MultiIndex.from_product([sp100_tickers, date_range], names=['Ticker', 'Date'])\n",
    "monthly_data = pd.DataFrame(index=full_index).reset_index()\n",
    "\n",
    "# Merge with our data to get the last available data point for each month\n",
    "all_data.set_index(['Ticker', 'Date'], inplace=True)\n",
    "monthly_data = monthly_data.merge(\n",
    "    all_data, \n",
    "    how='left', \n",
    "    left_on=['Ticker', 'Date'], \n",
    "    right_index=True\n",
    ")\n",
    "\n",
    "# Forward fill to get the last available value for each month\n",
    "for ticker in sp100_tickers:\n",
    "    mask = monthly_data['Ticker'] == ticker\n",
    "    monthly_data.loc[mask] = monthly_data.loc[mask].ffill()\n",
    "\n",
    "# Fix momentum calculation - use 12 months correctly\n",
    "monthly_data['momentum'] = monthly_data.groupby('Ticker')['Close'].transform(\n",
    "    lambda x: x.pct_change(12, fill_method=None).shift(1)\n",
    ")\n",
    "\n",
    "# Calculate size factor\n",
    "monthly_data['size'] = np.log(monthly_data['Market Cap'])\n",
    "\n",
    "# Calculate value factor (handle zero/negative P/E)\n",
    "monthly_data['value'] = 1 / monthly_data['P/E Ratio'].replace([np.inf, -np.inf], np.nan)\n",
    "\n",
    "# --- 3. Define the Target Variable ---\n",
    "monthly_data['target'] = monthly_data.groupby('Ticker')['Close'].transform(\n",
    "    lambda x: x.pct_change(fill_method=None).shift(-1)\n",
    ")\n",
    "\n",
    "# --- 4. Clean and Prepare Data ---\n",
    "# Drop rows with NaN in target or features\n",
    "final_df = monthly_data.dropna(subset=['target', 'momentum', 'size', 'value']).copy()\n",
    "\n",
    "# Additional preprocessing: Remove extreme outliers\n",
    "for column in ['momentum', 'size', 'value']:\n",
    "    q_low = final_df[column].quantile(0.01)\n",
    "    q_high = final_df[column].quantile(0.99)\n",
    "    final_df = final_df[(final_df[column] >= q_low) & (final_df[column] <= q_high)]\n",
    "\n",
    "print(\"Data preparation complete. Final shape:\", final_df.shape)"
   ]
  },
  {
   "cell_type": "markdown",
   "id": "c1d345eb-4e63-4b59-b163-1ffe81070064",
   "metadata": {},
   "source": [
    "# 3. Model Training & Feature Neutralisation"
   ]
  },
  {
   "cell_type": "markdown",
   "id": "cfb3bdcd-9c06-4f6f-8caa-5e0a4fca5ff1",
   "metadata": {},
   "source": [
    "A key step in modern factor modeling is to make the factors market-neutral and sector neutral. For simplicity, we will focus on market neutrality by de-meaning our factors at each time step."
   ]
  },
  {
   "cell_type": "code",
   "execution_count": 2,
   "id": "a76d4de5-e5e4-4007-a794-8fac148390b1",
   "metadata": {},
   "outputs": [
    {
     "name": "stdout",
     "output_type": "stream",
     "text": [
      "[LightGBM] [Debug] Dataset::GetMultiBinFromAllFeatures: sparse rate 0.000000\n",
      "[LightGBM] [Debug] init for col-wise cost 0.000006 seconds, init for row-wise cost 0.000249 seconds\n",
      "[LightGBM] [Info] Auto-choosing col-wise multi-threading, the overhead of testing was 0.000383 seconds.\n",
      "You can set `force_col_wise=true` to remove the overhead.\n",
      "[LightGBM] [Info] Total Bins 765\n",
      "[LightGBM] [Info] Number of data points in the train set: 7937, number of used features: 3\n",
      "[LightGBM] [Info] Start training from score 0.013387\n",
      "[LightGBM] [Debug] Trained a tree with leaves = 31 and depth = 11\n",
      "Training until validation scores don't improve for 50 rounds\n",
      "[LightGBM] [Debug] Trained a tree with leaves = 31 and depth = 12\n",
      "[LightGBM] [Debug] Trained a tree with leaves = 31 and depth = 13\n",
      "[LightGBM] [Debug] Trained a tree with leaves = 31 and depth = 14\n",
      "[LightGBM] [Debug] Trained a tree with leaves = 31 and depth = 11\n",
      "[LightGBM] [Debug] Trained a tree with leaves = 31 and depth = 11\n",
      "[LightGBM] [Debug] Trained a tree with leaves = 31 and depth = 10\n",
      "[LightGBM] [Debug] Trained a tree with leaves = 31 and depth = 13\n",
      "[LightGBM] [Debug] Trained a tree with leaves = 31 and depth = 12\n",
      "[LightGBM] [Debug] Trained a tree with leaves = 31 and depth = 12\n",
      "[LightGBM] [Debug] Trained a tree with leaves = 31 and depth = 10\n",
      "[LightGBM] [Debug] Trained a tree with leaves = 31 and depth = 12\n",
      "[LightGBM] [Debug] Trained a tree with leaves = 31 and depth = 11\n",
      "[LightGBM] [Debug] Trained a tree with leaves = 31 and depth = 10\n",
      "[LightGBM] [Debug] Trained a tree with leaves = 31 and depth = 9\n",
      "[LightGBM] [Debug] Trained a tree with leaves = 31 and depth = 9\n",
      "[LightGBM] [Debug] Trained a tree with leaves = 31 and depth = 13\n",
      "[LightGBM] [Debug] Trained a tree with leaves = 31 and depth = 10\n",
      "[LightGBM] [Debug] Trained a tree with leaves = 31 and depth = 11\n",
      "[LightGBM] [Debug] Trained a tree with leaves = 31 and depth = 10\n",
      "[LightGBM] [Debug] Trained a tree with leaves = 31 and depth = 11\n",
      "[LightGBM] [Debug] Trained a tree with leaves = 31 and depth = 12\n",
      "[LightGBM] [Debug] Trained a tree with leaves = 31 and depth = 10\n",
      "[LightGBM] [Debug] Trained a tree with leaves = 31 and depth = 16\n",
      "[LightGBM] [Debug] Trained a tree with leaves = 31 and depth = 11\n",
      "[LightGBM] [Debug] Trained a tree with leaves = 31 and depth = 15\n",
      "[LightGBM] [Debug] Trained a tree with leaves = 31 and depth = 14\n",
      "[LightGBM] [Debug] Trained a tree with leaves = 31 and depth = 10\n",
      "[LightGBM] [Debug] Trained a tree with leaves = 31 and depth = 10\n",
      "[LightGBM] [Debug] Trained a tree with leaves = 31 and depth = 10\n",
      "[LightGBM] [Debug] Trained a tree with leaves = 31 and depth = 12\n",
      "[LightGBM] [Debug] Trained a tree with leaves = 31 and depth = 11\n",
      "[LightGBM] [Debug] Trained a tree with leaves = 31 and depth = 19\n",
      "[LightGBM] [Debug] Trained a tree with leaves = 31 and depth = 9\n",
      "[LightGBM] [Debug] Trained a tree with leaves = 31 and depth = 11\n",
      "[LightGBM] [Debug] Trained a tree with leaves = 31 and depth = 11\n",
      "[LightGBM] [Debug] Trained a tree with leaves = 31 and depth = 11\n",
      "[LightGBM] [Debug] Trained a tree with leaves = 31 and depth = 9\n",
      "[LightGBM] [Debug] Trained a tree with leaves = 31 and depth = 8\n",
      "[LightGBM] [Debug] Trained a tree with leaves = 31 and depth = 11\n",
      "[LightGBM] [Debug] Trained a tree with leaves = 31 and depth = 10\n",
      "[LightGBM] [Debug] Trained a tree with leaves = 31 and depth = 12\n",
      "[LightGBM] [Debug] Trained a tree with leaves = 31 and depth = 10\n",
      "[LightGBM] [Debug] Trained a tree with leaves = 31 and depth = 13\n",
      "[LightGBM] [Debug] Trained a tree with leaves = 31 and depth = 15\n",
      "[LightGBM] [Debug] Trained a tree with leaves = 31 and depth = 10\n",
      "[LightGBM] [Debug] Trained a tree with leaves = 31 and depth = 12\n",
      "[LightGBM] [Debug] Trained a tree with leaves = 31 and depth = 8\n",
      "[LightGBM] [Debug] Trained a tree with leaves = 31 and depth = 11\n",
      "[LightGBM] [Debug] Trained a tree with leaves = 31 and depth = 13\n",
      "[50]\tvalid_0's rmse: 0.0680075\tvalid_0's l2: 0.00462501\n",
      "[LightGBM] [Debug] Trained a tree with leaves = 31 and depth = 11\n",
      "Early stopping, best iteration is:\n",
      "[1]\tvalid_0's rmse: 0.0674795\tvalid_0's l2: 0.00455349\n",
      "Test RMSE: 0.0675\n",
      "Spearman Correlation: 0.0097\n",
      "\n",
      "Sample predictions:\n",
      "          Date Ticker    actual  predicted\n",
      "98  2023-03-31   AAPL  0.000000   0.013489\n",
      "99  2023-04-30   AAPL  0.076381   0.013489\n",
      "100 2023-05-31   AAPL  0.094330   0.013489\n",
      "101 2023-06-30   AAPL  0.012785   0.013489\n",
      "102 2023-07-31   AAPL -0.042384   0.013230\n",
      "103 2023-08-31   AAPL  0.000000   0.013230\n",
      "104 2023-09-30   AAPL -0.091020   0.013489\n",
      "105 2023-10-31   AAPL  0.113780   0.013489\n",
      "106 2023-11-30   AAPL  0.000000   0.013489\n",
      "107 2023-12-31   AAPL -0.029218   0.013489\n",
      "\n",
      "Feature Importance:\n",
      "    feature  importance\n",
      "0  momentum          11\n",
      "2     value          11\n",
      "1      size           8\n"
     ]
    }
   ],
   "source": [
    "# Demean factors to make them market-neutral\n",
    "for factor in ['momentum', 'size', 'value']:\n",
    "    final_df[factor] = final_df.groupby('Date')[factor].transform(lambda x: x - x.mean())\n",
    "\n",
    "# Define features (X) and target (y)\n",
    "X = final_df[['momentum', 'size', 'value']]\n",
    "y = final_df['target']\n",
    "\n",
    "# Create a time-based split (e.g., 80% train, 20% test)\n",
    "# First, get unique dates and sort them\n",
    "unique_dates = pd.to_datetime(final_df['Date'].unique())\n",
    "unique_dates = np.sort(unique_dates)  # Use numpy sort instead\n",
    "split_idx = int(0.8 * len(unique_dates))\n",
    "train_dates = unique_dates[:split_idx]\n",
    "test_dates = unique_dates[split_idx:]\n",
    "\n",
    "# Create masks for training and testing periods\n",
    "train_mask = final_df['Date'].isin(train_dates)\n",
    "test_mask = final_df['Date'].isin(test_dates)\n",
    "\n",
    "# Split the data\n",
    "train_X, test_X = X[train_mask], X[test_mask]\n",
    "train_y, test_y = y[train_mask], y[test_mask]\n",
    "\n",
    "# Train a LightGBM Regressor\n",
    "# For LightGBM 4.6.0, use the constructor parameters for verbosity\n",
    "model = lgb.LGBMRegressor(\n",
    "    n_estimators=1000, \n",
    "    learning_rate=0.05, \n",
    "    num_leaves=31,\n",
    "    random_state=42,\n",
    "    verbose=50  # Set verbosity in the constructor instead\n",
    ")\n",
    "\n",
    "# For LightGBM 4.6.0, use the callbacks approach\n",
    "callbacks = [\n",
    "    lgb.early_stopping(stopping_rounds=50),\n",
    "    lgb.log_evaluation(period=50)\n",
    "]\n",
    "\n",
    "model.fit(\n",
    "    train_X, \n",
    "    train_y,\n",
    "    eval_set=[(test_X, test_y)],\n",
    "    eval_metric='rmse',\n",
    "    callbacks=callbacks\n",
    "    # Removed verbose parameter from fit()\n",
    ")\n",
    "\n",
    "# Generate predictions on the test set\n",
    "predictions = model.predict(test_X)\n",
    "\n",
    "# Calculate performance metrics\n",
    "test_rmse = np.sqrt(np.mean((test_y - predictions) ** 2))\n",
    "spearman_corr, _ = spearmanr(test_y, predictions)\n",
    "\n",
    "print(f\"Test RMSE: {test_rmse:.4f}\")\n",
    "print(f\"Spearman Correlation: {spearman_corr:.4f}\")\n",
    "\n",
    "# Optional: Create a DataFrame with actual vs predicted values\n",
    "results_df = final_df[test_mask].copy()\n",
    "results_df['predicted'] = predictions\n",
    "results_df['actual'] = test_y.values\n",
    "\n",
    "# Show some sample results\n",
    "print(\"\\nSample predictions:\")\n",
    "print(results_df[['Date', 'Ticker', 'actual', 'predicted']].head(10))\n",
    "\n",
    "# Feature importance\n",
    "feature_importance = pd.DataFrame({\n",
    "    'feature': ['momentum', 'size', 'value'],\n",
    "    'importance': model.feature_importances_\n",
    "}).sort_values('importance', ascending=False)\n",
    "\n",
    "print(\"\\nFeature Importance:\")\n",
    "print(feature_importance)"
   ]
  },
  {
   "cell_type": "markdown",
   "id": "06394607-4928-4ab1-9021-a78da54ad952",
   "metadata": {},
   "source": [
    "# 4. Performance Evaluation"
   ]
  },
  {
   "cell_type": "markdown",
   "id": "04d779d0-f124-43e1-bb5b-10d3fb616b33",
   "metadata": {},
   "source": [
    "We do not use R-squared. The gold standard for evaluating a factor model is the Information Coefficient (IC), which is the Spearman rank correlation between the model's predictions and the actual forward returns."
   ]
  },
  {
   "cell_type": "code",
   "execution_count": 3,
   "id": "007b5dc2-dbc5-43cc-86a2-818c1645a87c",
   "metadata": {},
   "outputs": [
    {
     "name": "stdout",
     "output_type": "stream",
     "text": [
      "Mean Monthly Information Coefficient (IC): nan\n",
      "IC Sharpe Ratio (Information Ratio): nan\n"
     ]
    },
    {
     "name": "stderr",
     "output_type": "stream",
     "text": [
      "C:\\Users\\USER\\AppData\\Local\\Temp\\ipykernel_43744\\2385505179.py:9: ConstantInputWarning: An input array is constant; the correlation coefficient is not defined.\n",
      "  rank_ic, p_val = spearmanr(group['prediction'], group['target'])\n"
     ]
    },
    {
     "data": {
      "image/png": "[encoded data removed]",
      "text/plain": [
       "<Figure size 1200x600 with 1 Axes>"
      ]
     },
     "metadata": {},
     "output_type": "display_data"
    },
    {
     "name": "stdout",
     "output_type": "stream",
     "text": [
      "Annualised Return: nan%\n",
      "Annualised Sharpe Ratio: nan\n",
      "Maximum Drawdown: nan%\n"
     ]
    }
   ],
   "source": [
    "# Calculate Information Coefficient (IC)\n",
    "ic_scores = []\n",
    "test_df = final_df.loc[test_X.index].copy()\n",
    "test_df['prediction'] = predictions\n",
    "\n",
    "for date, group in test_df.groupby('Date'):\n",
    "    # Only compute IC if predictions are not constant\n",
    "    if group['prediction'].nunique() > 1:\n",
    "        rank_ic, p_val = spearmanr(group['prediction'], group['target'])\n",
    "        ic_scores.append(rank_ic)\n",
    "\n",
    "if ic_scores:\n",
    "    mean_ic = np.mean(ic_scores)\n",
    "    ic_sharpe = np.mean(ic_scores) / np.std(ic_scores)\n",
    "else:\n",
    "    mean_ic = np.nan\n",
    "    ic_sharpe = np.nan\n",
    "\n",
    "print(f\"Mean Monthly Information Coefficient (IC): {mean_ic:.4f}\")\n",
    "print(f\"IC Sharpe Ratio (Information Ratio): {ic_sharpe:.2f}\")\n",
    "\n",
    "\n",
    "# --- 5. Backtest a Long-Short Portfolio ---\n",
    "# Each month, go long the top 10% of stocks by predicted return, and short the bottom 10%\n",
    "test_df['quintile'] = test_df.groupby('Date')['prediction'].transform(\n",
    "    lambda x: pd.qcut(x, 10, labels=False, duplicates='drop')\n",
    ")\n",
    "long_returns = test_df[test_df['quintile'] == 9].groupby('Date')['target'].mean()\n",
    "short_returns = test_df[test_df['quintile'] == 0].groupby('Date')['target'].mean()\n",
    "\n",
    "portfolio_returns = long_returns - short_returns\n",
    "cumulative_returns = (1 + portfolio_returns).cumprod()\n",
    "\n",
    "# --- 6. Plot Cumulative Returns ---\n",
    "import matplotlib.pyplot as plt\n",
    "\n",
    "plt.figure(figsize=(12, 6))\n",
    "plt.plot(cumulative_returns.index, cumulative_returns, label='Long-Short Portfolio', color='blue')\n",
    "plt.title('Cumulative Returns of Long-Short Portfolio')\n",
    "plt.xlabel('Date')\n",
    "plt.ylabel('Cumulative Returns')\n",
    "plt.legend()\n",
    "plt.grid(True)\n",
    "plt.show()\n",
    "\n",
    "# --- 7. Compute Portfolio Performance Metrics ---\n",
    "# Annualised Sharpe Ratio\n",
    "daily_returns = portfolio_returns\n",
    "annualised_sharpe = (daily_returns.mean() / daily_returns.std()) * np.sqrt(12)  # monthly data\n",
    "\n",
    "# Annualised return\n",
    "annualised_return = (1 + portfolio_returns.mean()) ** 12 - 1\n",
    "\n",
    "# Max drawdown\n",
    "cum_returns = (1 + portfolio_returns).cumprod()\n",
    "rolling_max = cum_returns.cummax()\n",
    "drawdown = (cum_returns - rolling_max) / rolling_max\n",
    "max_drawdown = drawdown.min()\n",
    "\n",
    "print(f\"Annualised Return: {annualised_return:.2%}\")\n",
    "print(f\"Annualised Sharpe Ratio: {annualised_sharpe:.2f}\")\n",
    "print(f\"Maximum Drawdown: {max_drawdown:.2%}\")\n"
   ]
  },
  {
   "cell_type": "markdown",
   "id": "14598e09-e89d-4a15-b218-9c923d1638d9",
   "metadata": {},
   "source": [
    "1. IC Analysis: The information Coefficient (IC) is NaN. This happens because, for each month, the model is priducing constant perdictions across all stocks. Spearman rank correlation cannot compute a value when all predicted values are the same. Essentially, the model isn't learning any meaningful signal from the factors i.e. it's flat.\n",
    "2. Backtest Metrics: Despite the NaN IC, backtest shows seemingly \"great\" performance. These numbers are misleading. Since predictions are constant, the top 10% vs bottom 10% selection is essentially random, and the backtest is likely reflecting noise, not actual predictive power. The model has no true predictive edge.\n",
    "3. Diagnosis: Likely causes:\n",
    "   - Insufficient or poorly scaled features\n",
    "   - Small dataset or low monthly variation\n",
    "   - LightGBM hyperparameters not suited for sparse/constant input\n",
    "\n",
    "Model is effectively not learning, producing flat predictions, which explains NaN IC."
   ]
  },
  {
   "cell_type": "markdown",
   "id": "510ad78e-7aaf-4d61-a981-00f9039f5362",
   "metadata": {},
   "source": [
    "## 5. Lessons Learned & Next Steps\n",
    "1. Underfitting detection: Check prediction variance before calculating IC.\n",
    "2. Feature engineering is critical: More factors or transformations are needed (e.g., technical indicators, sector-neutralization, fundamental ratios).\n",
    "3. Model tuning: Parameters like `num_leaves`, `learning_rate`, `max_depth` need careful calibration.\n",
    "4. IC calculation robustness: Skip constant predictions or aggregate differently (e.g., weekly or full-sample IC for debugging).\n",
    "\n",
    "**Next Steps**\n",
    "- Expand the feature set and normalise numerical features\n",
    "- Increase training iterations or adjust early stopping\n",
    "- Implement cross-validation instead of simple train-test split\n",
    "- Investigate other models or ensembles for better predictive power\n",
    "- Compute IC only on periods with sufficient variability"
   ]
  },
  {
   "cell_type": "markdown",
   "id": "63244751-1805-49e7-bcb4-57fcbe810500",
   "metadata": {},
   "source": [
    "# 6. Conclusion"
   ]
  },
  {
   "cell_type": "markdown",
   "id": "d2313265-1349-45c7-a372-8d33dcb8b08e",
   "metadata": {},
   "source": [
    "This project demonstrates an end-to-end workflow for building a modern, machine-learning-based equity factor model. We constructed classic factors, trained a non-linear model, and critically evaluated its performance using industry-standard metrics like the Information Coefficient and a long-short portfolio backtest."
   ]
  }
 ],
 "metadata": {
  "kernelspec": {
   "display_name": "Python (quant_env)",
   "language": "python",
   "name": "quant_env"
  },
  "language_info": {
   "codemirror_mode": {
    "name": "ipython",
    "version": 3
   },
   "file_extension": ".py",
   "mimetype": "text/x-python",
   "name": "python",
   "nbconvert_exporter": "python",
   "pygments_lexer": "ipython3",
   "version": "3.10.18"
  }
 },
 "nbformat": 4,
 "nbformat_minor": 5
}
