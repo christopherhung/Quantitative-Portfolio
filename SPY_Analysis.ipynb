{
 "cells": [
  {
   "cell_type": "code",
   "execution_count": 1,
   "id": "2c3f9f07-b664-40c5-9cbc-fbe0e4d93566",
   "metadata": {},
   "outputs": [
    {
     "name": "stderr",
     "output_type": "stream",
     "text": [
      "C:\\Users\\USER\\AppData\\Local\\Temp\\ipykernel_17388\\506101344.py:5: FutureWarning: YF.download() has changed argument auto_adjust default to True\n",
      "  spy_data = yf.download('SPY', start='2005-09-01', end='2025-09-01')\n",
      "[*********************100%***********************]  1 of 1 completed"
     ]
    },
    {
     "name": "stdout",
     "output_type": "stream",
     "text": [
      "Price           Close       High        Low       Open    Volume\n",
      "Ticker            SPY        SPY        SPY        SPY       SPY\n",
      "Date                                                            \n",
      "2005-09-01  84.235016  84.688893  83.306637  84.255646  74578700\n",
      "2005-09-02  84.083717  84.503208  83.925552  84.482578  47653400\n",
      "2005-09-06  85.067101  85.135874  84.345030  84.351909  57251300\n",
      "2005-09-07  85.211540  85.362827  84.902077  85.018983  41749700\n",
      "2005-09-08  84.929588  85.273433  84.798926  85.039621  39068700\n"
     ]
    },
    {
     "name": "stderr",
     "output_type": "stream",
     "text": [
      "\n"
     ]
    }
   ],
   "source": [
    "import yfinance as yf\n",
    "import pandas as pd\n",
    "\n",
    "# Fetch daily data for the S&P 500 ETF (SPY) for the last 20 years\n",
    "spy_data = yf.download('SPY', start='2005-09-01', end='2025-09-01')\n",
    "\n",
    "# Display the first few rows to confirm it worked\n",
    "print(spy_data.head())"
   ]
  },
  {
   "cell_type": "code",
   "execution_count": null,
   "id": "a682c5e3-36a2-490b-a761-b3863c319f92",
   "metadata": {},
   "outputs": [],
   "source": []
  }
 ],
 "metadata": {
  "kernelspec": {
   "display_name": "Python (quant_env)",
   "language": "python",
   "name": "quant_env"
  },
  "language_info": {
   "codemirror_mode": {
    "name": "ipython",
    "version": 3
   },
   "file_extension": ".py",
   "mimetype": "text/x-python",
   "name": "python",
   "nbconvert_exporter": "python",
   "pygments_lexer": "ipython3",
   "version": "3.10.18"
  }
 },
 "nbformat": 4,
 "nbformat_minor": 5
}
