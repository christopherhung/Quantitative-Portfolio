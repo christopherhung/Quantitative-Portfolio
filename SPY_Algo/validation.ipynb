{
 "cells": [
  {
   "cell_type": "markdown",
   "id": "40a4348b-874b-418a-8875-091efea9d155",
   "metadata": {},
   "source": [
    "Validation and Robustness Testing"
   ]
  },
  {
   "cell_type": "code",
   "execution_count": 1,
   "id": "06d22cc9-9409-4d35-8525-26b5ee9627eb",
   "metadata": {},
   "outputs": [
    {
     "name": "stdout",
     "output_type": "stream",
     "text": [
      "\n",
      "--- Monte Carlo Simulation Results ---\n",
      "Original Sharpe Ratio: -0.02\n",
      "5th Percentile Sharpe: -0.84\n",
      "95th Percentile Sharpe: 0.83\n",
      "\n",
      "Original Max Drawdown: -59.72%\n",
      "95th Percentile (worse) Drawdown: -33.64%\n",
      "5th Percentile (better) Drawdown: -79.90%\n",
      "\n",
      "P-value for Sharpe Ratio (strategy > 0): 0.501\n"
     ]
    }
   ],
   "source": [
    "import numpy as np\n",
    "import pandas as pd\n",
    "\n",
    "def calculate_sharpe_ratio(returns):\n",
    "    \"\"\"Calculate Sharpe ratio.\"\"\"\n",
    "    if returns.std() == 0:\n",
    "        return np.nan\n",
    "    return returns.mean() / returns.std() * np.sqrt(252)  # Annualized\n",
    "\n",
    "def calculate_max_drawdown(returns):\n",
    "    \"\"\"Calculate maximum drawdown.\"\"\"\n",
    "    cumulative = (1 + returns).cumprod()\n",
    "    running_max = cumulative.expanding().max()\n",
    "    drawdown = (cumulative - running_max) / running_max\n",
    "    return drawdown.min()\n",
    "\n",
    "def run_monte_carlo_simulation(strategy_returns, simulations=10000):\n",
    "    \"\"\"Performs a bootstrap analysis on trade returns.\"\"\"\n",
    "    # We bootstrap daily returns for simplicity, trade-level is also valid\n",
    "    daily_returns = strategy_returns[strategy_returns != 0]\n",
    "    \n",
    "    if len(daily_returns) == 0:\n",
    "        print(\"No non-zero returns to bootstrap from!\")\n",
    "        return\n",
    "    \n",
    "    sim_results = []\n",
    "    \n",
    "    for _ in range(simulations):\n",
    "        # Sample with replacement\n",
    "        synthetic_returns = np.random.choice(daily_returns.values, size=len(strategy_returns), replace=True)\n",
    "        synthetic_returns = pd.Series(synthetic_returns, index=strategy_returns.index)\n",
    "        \n",
    "        # Calculate metrics using our custom functions\n",
    "        sharpe = calculate_sharpe_ratio(synthetic_returns)\n",
    "        max_dd = calculate_max_drawdown(synthetic_returns)\n",
    "        \n",
    "        sim_results.append({'sharpe': sharpe, 'max_drawdown': max_dd})\n",
    "        \n",
    "    results_df = pd.DataFrame(sim_results)\n",
    "    \n",
    "    # Calculate original metrics\n",
    "    original_sharpe = calculate_sharpe_ratio(strategy_returns)\n",
    "    original_max_dd = calculate_max_drawdown(strategy_returns)\n",
    "    \n",
    "    print(\"\\n--- Monte Carlo Simulation Results ---\")\n",
    "    print(f\"Original Sharpe Ratio: {original_sharpe:.2f}\")\n",
    "    print(f\"5th Percentile Sharpe: {results_df['sharpe'].quantile(0.05):.2f}\")\n",
    "    print(f\"95th Percentile Sharpe: {results_df['sharpe'].quantile(0.95):.2f}\")\n",
    "    \n",
    "    print(f\"\\nOriginal Max Drawdown: {original_max_dd:.2%}\")\n",
    "    print(f\"95th Percentile (worse) Drawdown: {results_df['max_drawdown'].quantile(0.95):.2%}\")\n",
    "    print(f\"5th Percentile (better) Drawdown: {results_df['max_drawdown'].quantile(0.05):.2%}\")\n",
    "    \n",
    "    # Calculate p-values for significance\n",
    "    sharpe_p_value = (results_df['sharpe'] > original_sharpe).mean()\n",
    "    print(f\"\\nP-value for Sharpe Ratio (strategy > 0): {sharpe_p_value:.3f}\")\n",
    "    \n",
    "    return results_df\n",
    "\n",
    "# Example usage:\n",
    "if __name__ == '__main__':\n",
    "    # For testing purposes, create some sample returns\n",
    "    np.random.seed(42)\n",
    "    sample_returns = pd.Series(np.random.normal(0.0005, 0.02, 1000))  # Small positive daily returns\n",
    "    \n",
    "    # Add some actual trading pattern to make it more realistic\n",
    "    sample_returns.iloc[::50] = np.random.normal(-0.05, 0.01, len(sample_returns[::50]))  # Occasional losses\n",
    "    \n",
    "    run_monte_carlo_simulation(sample_returns)"
   ]
  },
  {
   "cell_type": "code",
   "execution_count": null,
   "id": "382f13b0-be22-49fc-b36f-4c6aa61d6159",
   "metadata": {},
   "outputs": [],
   "source": []
  }
 ],
 "metadata": {
  "kernelspec": {
   "display_name": "Python (quant_env)",
   "language": "python",
   "name": "quant_env"
  },
  "language_info": {
   "codemirror_mode": {
    "name": "ipython",
    "version": 3
   },
   "file_extension": ".py",
   "mimetype": "text/x-python",
   "name": "python",
   "nbconvert_exporter": "python",
   "pygments_lexer": "ipython3",
   "version": "3.10.18"
  }
 },
 "nbformat": 4,
 "nbformat_minor": 5
}
