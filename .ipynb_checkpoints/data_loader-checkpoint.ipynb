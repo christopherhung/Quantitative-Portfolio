{
 "cells": [
  {
   "cell_type": "markdown",
   "id": "40e74179-7c39-4e61-9461-840a9cb0a378",
   "metadata": {},
   "source": [
    "Data Sourcing and Feature Engineering"
   ]
  },
  {
   "cell_type": "code",
   "execution_count": 1,
   "id": "cb605ffb-ea56-42db-aaef-9c1859dcc3dd",
   "metadata": {},
   "outputs": [
    {
     "name": "stderr",
     "output_type": "stream",
     "text": [
      "[*********************100%***********************]  1 of 1 completed\n",
      "[*********************100%***********************]  1 of 1 completed"
     ]
    },
    {
     "name": "stdout",
     "output_type": "stream",
     "text": [
      "Data loaded and features engineered:\n",
      "Price             Open        High         Low   spy_close    Volume  \\\n",
      "Date                                                                   \n",
      "2025-10-01  663.169983  669.369995  663.059998  668.450012  72545400   \n",
      "2025-10-02  670.450012  670.570007  666.780029  669.219971  56896000   \n",
      "2025-10-03  669.989990  672.679993  668.159973  669.210022  70494400   \n",
      "2025-10-06  671.619995  672.510010  669.460022  671.609985  54491800   \n",
      "2025-10-07  672.539978  672.989990  670.830017  671.109985  15111729   \n",
      "\n",
      "Price             vix        rsi      sma_20    std_20  bollinger_upper  \\\n",
      "Date                                                                      \n",
      "2025-10-01  16.290001  68.527029  657.911475  6.985894       671.883263   \n",
      "2025-10-02  16.629999  69.660078  659.006207  6.955112       672.916432   \n",
      "2025-10-03  16.650000  66.241332  660.194183  6.534254       673.262692   \n",
      "2025-10-06  16.370001  70.561234  661.422876  6.233296       673.889468   \n",
      "2025-10-07  16.420000  71.254117  662.551776  5.805634       674.163043   \n",
      "\n",
      "Price       bollinger_lower  z_score_20       atr  volume_sma_50  daily_return  \n",
      "Date                                                                            \n",
      "2025-10-01       643.939686    1.508545  4.790747    72018046.00      0.003408  \n",
      "2025-10-02       645.095983    1.468526  4.904042    71745746.00      0.001152  \n",
      "2025-10-03       647.125675    1.379781  4.968333    71729492.00     -0.000015  \n",
      "2025-10-06       648.956284    1.634305  5.020982    71682020.00      0.003586  \n",
      "2025-10-07       650.940509    1.474121  4.646732    70885912.58     -0.000744  \n",
      "\n",
      "Column names:\n",
      "['Open', 'High', 'Low', 'spy_close', 'Volume', 'vix', 'rsi', 'sma_20', 'std_20', 'bollinger_upper', 'bollinger_lower', 'z_score_20', 'atr', 'volume_sma_50', 'daily_return']\n",
      "\n",
      "Shape: (5174, 15)\n"
     ]
    },
    {
     "name": "stderr",
     "output_type": "stream",
     "text": [
      "\n"
     ]
    }
   ],
   "source": [
    "import yfinance as yf\n",
    "import pandas as pd\n",
    "import numpy as np\n",
    "\n",
    "def calculate_features(df):\n",
    "    \"\"\"Engineers all necessary features from the raw OHLCV data.\"\"\"\n",
    "    # Create a copy to avoid modifying the original DataFrame\n",
    "    df = df.copy()\n",
    "    \n",
    "    # 1. Relative Strength Index (RSI) - Fixed to handle division by zero\n",
    "    delta = df['spy_close'].diff()  # Use spy_close instead of 'Close'\n",
    "    gain = (delta.where(delta > 0, 0)).rolling(window=14).mean()\n",
    "    loss = (-delta.where(delta < 0, 0)).rolling(window=14).mean()\n",
    "    \n",
    "    # Handle division by zero and NaN values\n",
    "    rs = np.where((loss == 0) | (loss.isna()), np.nan, gain / loss)\n",
    "    df['rsi'] = 100 - (100 / (1 + rs))\n",
    "    \n",
    "    # 2. Bollinger Bands\n",
    "    df['sma_20'] = df['spy_close'].rolling(window=20).mean()\n",
    "    df['std_20'] = df['spy_close'].rolling(window=20).std()\n",
    "    df['bollinger_upper'] = df['sma_20'] + (df['std_20'] * 2)\n",
    "    df['bollinger_lower'] = df['sma_20'] - (df['std_20'] * 2)\n",
    "\n",
    "    # 3. Rolling Z-Score\n",
    "    df['z_score_20'] = (df['spy_close'] - df['sma_20']) / df['std_20']\n",
    "\n",
    "    # 4. Average True Range (ATR) - Fixed column references\n",
    "    high_low = df['High'] - df['Low']\n",
    "    high_close = np.abs(df['High'] - df['spy_close'].shift())  # Use spy_close\n",
    "    low_close = np.abs(df['Low'] - df['spy_close'].shift())    # Use spy_close\n",
    "    tr = pd.concat([high_low, high_close, low_close], axis=1).max(axis=1)\n",
    "    df['atr'] = tr.rolling(window=14).mean()\n",
    "\n",
    "    # 5. Add Volume Moving Average\n",
    "    df['volume_sma_50'] = df['Volume'].rolling(window=50).mean()\n",
    "    \n",
    "    return df\n",
    "\n",
    "def get_market_data(start_date=\"2005-01-01\"):\n",
    "    \"\"\"Downloads SPY and VIX data and engineers features.\"\"\"\n",
    "    spy_data = yf.download('SPY', start=start_date, auto_adjust=True)\n",
    "    vix_data = yf.download('^VIX', start=start_date, auto_adjust=True)\n",
    "\n",
    "    # Reset any potential multi-level indexes and ensure clean column structure\n",
    "    if isinstance(spy_data.columns, pd.MultiIndex):\n",
    "        spy_data.columns = spy_data.columns.droplevel(1)  # Remove the second level if it exists\n",
    "    if isinstance(vix_data.columns, pd.MultiIndex):\n",
    "        vix_data.columns = vix_data.columns.droplevel(1)  # Remove the second level if it exists\n",
    "    \n",
    "    # Select only the columns we need\n",
    "    spy_data = spy_data[['Open', 'High', 'Low', 'Close', 'Volume']].copy()\n",
    "    vix_data = vix_data[['Close']].copy()\n",
    "    vix_data = vix_data.rename(columns={'Close': 'vix'})\n",
    "    \n",
    "    # Align the date indices properly\n",
    "    common_dates = spy_data.index.intersection(vix_data.index)\n",
    "    spy_data = spy_data.loc[common_dates]\n",
    "    vix_data = vix_data.loc[common_dates]\n",
    "    \n",
    "    # Combine into a single DataFrame using merge\n",
    "    df = spy_data.copy()\n",
    "    df['vix'] = vix_data['vix']\n",
    "    df.rename(columns={'Close': 'spy_close'}, inplace=True)  # Rename for clarity\n",
    "\n",
    "    # Calculate features using the function\n",
    "    df = calculate_features(df)\n",
    "    \n",
    "    # Calculate daily returns for the backtest\n",
    "    df['daily_return'] = df['spy_close'].pct_change()\n",
    "\n",
    "    return df.dropna()\n",
    "\n",
    "# Example usage:\n",
    "if __name__ == '__main__':\n",
    "    market_data = get_market_data()\n",
    "    print(\"Data loaded and features engineered:\")\n",
    "    print(market_data.tail())\n",
    "    print(\"\\nColumn names:\")\n",
    "    print(market_data.columns.tolist())\n",
    "    print(f\"\\nShape: {market_data.shape}\")"
   ]
  }
 ],
 "metadata": {
  "kernelspec": {
   "display_name": "Python (quant_env)",
   "language": "python",
   "name": "quant_env"
  },
  "language_info": {
   "codemirror_mode": {
    "name": "ipython",
    "version": 3
   },
   "file_extension": ".py",
   "mimetype": "text/x-python",
   "name": "python",
   "nbconvert_exporter": "python",
   "pygments_lexer": "ipython3",
   "version": "3.10.18"
  }
 },
 "nbformat": 4,
 "nbformat_minor": 5
}
